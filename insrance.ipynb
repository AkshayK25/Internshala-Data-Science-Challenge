{
  "nbformat": 4,
  "nbformat_minor": 0,
  "metadata": {
    "colab": {
      "name": "insrance.ipynb",
      "version": "0.3.2",
      "provenance": [],
      "collapsed_sections": [],
      "include_colab_link": true
    },
    "kernelspec": {
      "name": "python3",
      "display_name": "Python 3"
    }
  },
  "cells": [
    {
      "cell_type": "markdown",
      "metadata": {
        "id": "view-in-github",
        "colab_type": "text"
      },
      "source": [
        "<a href=\"https://colab.research.google.com/github/AkshayK25/Internshala-Data-Science-Challenge/blob/master/insrance.ipynb\" target=\"_parent\"><img src=\"https://colab.research.google.com/assets/colab-badge.svg\" alt=\"Open In Colab\"/></a>"
      ]
    },
    {
      "cell_type": "code",
      "metadata": {
        "id": "TDl8DTys_UzE",
        "colab_type": "code",
        "colab": {}
      },
      "source": [
        "import pandas as pd\n",
        "import numpy as np\n",
        "from sklearn.metrics import *"
      ],
      "execution_count": 0,
      "outputs": []
    },
    {
      "cell_type": "code",
      "metadata": {
        "id": "sg4QfY_Y_bgr",
        "colab_type": "code",
        "outputId": "def92018-a9ec-4893-d21b-cb1af1bf6d38",
        "colab": {
          "base_uri": "https://localhost:8080/",
          "height": 34
        }
      },
      "source": [
        "Train = pd.read_csv('/content/train_qnU1GcL.csv')\n",
        "Train.shape"
      ],
      "execution_count": 42,
      "outputs": [
        {
          "output_type": "execute_result",
          "data": {
            "text/plain": [
              "(79853, 12)"
            ]
          },
          "metadata": {
            "tags": []
          },
          "execution_count": 42
        }
      ]
    },
    {
      "cell_type": "code",
      "metadata": {
        "id": "FDBdTBk9AUqn",
        "colab_type": "code",
        "outputId": "1396d7c1-a274-43d5-eb4c-c249a85c8a59",
        "colab": {
          "base_uri": "https://localhost:8080/",
          "height": 1000
        }
      },
      "source": [
        "Train['perc_premium_paid_by_cash_credit']"
      ],
      "execution_count": 43,
      "outputs": [
        {
          "output_type": "execute_result",
          "data": {
            "text/plain": [
              "0        0.429\n",
              "1        0.010\n",
              "2        0.917\n",
              "3        0.049\n",
              "4        0.052\n",
              "5        0.540\n",
              "6        1.000\n",
              "7        1.000\n",
              "8        0.621\n",
              "9        0.908\n",
              "10       0.051\n",
              "11       0.033\n",
              "12       1.000\n",
              "13       0.111\n",
              "14       0.027\n",
              "15       0.963\n",
              "16       0.055\n",
              "17       0.125\n",
              "18       0.012\n",
              "19       0.000\n",
              "20       0.455\n",
              "21       0.229\n",
              "22       0.307\n",
              "23       0.880\n",
              "24       0.870\n",
              "25       0.030\n",
              "26       0.000\n",
              "27       0.000\n",
              "28       0.000\n",
              "29       0.036\n",
              "         ...  \n",
              "79823    0.752\n",
              "79824    0.989\n",
              "79825    0.107\n",
              "79826    0.031\n",
              "79827    0.634\n",
              "79828    1.000\n",
              "79829    0.000\n",
              "79830    0.999\n",
              "79831    0.377\n",
              "79832    0.120\n",
              "79833    0.062\n",
              "79834    0.008\n",
              "79835    0.070\n",
              "79836    0.062\n",
              "79837    0.114\n",
              "79838    0.016\n",
              "79839    0.764\n",
              "79840    0.034\n",
              "79841    0.958\n",
              "79842    0.310\n",
              "79843    0.454\n",
              "79844    0.994\n",
              "79845    0.825\n",
              "79846    0.118\n",
              "79847    0.033\n",
              "79848    0.425\n",
              "79849    0.704\n",
              "79850    0.000\n",
              "79851    0.398\n",
              "79852    0.550\n",
              "Name: perc_premium_paid_by_cash_credit, Length: 79853, dtype: float64"
            ]
          },
          "metadata": {
            "tags": []
          },
          "execution_count": 43
        }
      ]
    },
    {
      "cell_type": "code",
      "metadata": {
        "id": "ws5vLNq_AxJj",
        "colab_type": "code",
        "colab": {}
      },
      "source": [
        "Train['age'] = Train['age_in_days']/365"
      ],
      "execution_count": 0,
      "outputs": []
    },
    {
      "cell_type": "code",
      "metadata": {
        "id": "tLT5UNSiA-3M",
        "colab_type": "code",
        "outputId": "4eaab6f3-34b7-4f7c-b8ac-8d894554a481",
        "colab": {
          "base_uri": "https://localhost:8080/",
          "height": 286
        }
      },
      "source": [
        "Train['age'].astype('int').plot(kind = 'hist',bins = 20)"
      ],
      "execution_count": 45,
      "outputs": [
        {
          "output_type": "execute_result",
          "data": {
            "text/plain": [
              "<matplotlib.axes._subplots.AxesSubplot at 0x7fea12981438>"
            ]
          },
          "metadata": {
            "tags": []
          },
          "execution_count": 45
        },
        {
          "output_type": "display_data",
          "data": {
            "image/png": "[encoded data removed]",
            "text/plain": [
              "<Figure size 432x288 with 1 Axes>"
            ]
          },
          "metadata": {
            "tags": []
          }
        }
      ]
    },
    {
      "cell_type": "code",
      "metadata": {
        "id": "ioVgb6s_BzGQ",
        "colab_type": "code",
        "outputId": "95953e59-cf3d-489d-d684-07a5aadbd809",
        "colab": {
          "base_uri": "https://localhost:8080/",
          "height": 170
        }
      },
      "source": [
        "Train['age'].describe()"
      ],
      "execution_count": 46,
      "outputs": [
        {
          "output_type": "execute_result",
          "data": {
            "text/plain": [
              "count    79853.000000\n",
              "mean        51.634786\n",
              "std         14.270463\n",
              "min         21.013699\n",
              "25%         41.024658\n",
              "50%         51.027397\n",
              "75%         62.016438\n",
              "max        103.019178\n",
              "Name: age, dtype: float64"
            ]
          },
          "metadata": {
            "tags": []
          },
          "execution_count": 46
        }
      ]
    },
    {
      "cell_type": "code",
      "metadata": {
        "id": "-iG0stt3CTYI",
        "colab_type": "code",
        "outputId": "e1de80f0-3bbd-4660-c530-4eb1363a356a",
        "colab": {
          "base_uri": "https://localhost:8080/",
          "height": 241
        }
      },
      "source": [
        "Train.query('age > 100')"
      ],
      "execution_count": 47,
      "outputs": [
        {
          "output_type": "execute_result",
          "data": {
            "text/html": [
              "<div>\n",
              "<style scoped>\n",
              "    .dataframe tbody tr th:only-of-type {\n",
              "        vertical-align: middle;\n",
              "    }\n",
              "\n",
              "    .dataframe tbody tr th {\n",
              "        vertical-align: top;\n",
              "    }\n",
              "\n",
              "    .dataframe thead th {\n",
              "        text-align: right;\n",
              "    }\n",
              "</style>\n",
              "<table border=\"1\" class=\"dataframe\">\n",
              "  <thead>\n",
              "    <tr style=\"text-align: right;\">\n",
              "      <th></th>\n",
              "      <th>id</th>\n",
              "      <th>perc_premium_paid_by_cash_credit</th>\n",
              "      <th>age_in_days</th>\n",
              "      <th>Income</th>\n",
              "      <th>Count_3-6_months_late</th>\n",
              "      <th>Count_6-12_months_late</th>\n",
              "      <th>Count_more_than_12_months_late</th>\n",
              "      <th>application_underwriting_score</th>\n",
              "      <th>no_of_premiums_paid</th>\n",
              "      <th>sourcing_channel</th>\n",
              "      <th>residence_area_type</th>\n",
              "      <th>target</th>\n",
              "      <th>age</th>\n",
              "    </tr>\n",
              "  </thead>\n",
              "  <tbody>\n",
              "    <tr>\n",
              "      <th>5045</th>\n",
              "      <td>7248</td>\n",
              "      <td>0.010</td>\n",
              "      <td>37240</td>\n",
              "      <td>99060</td>\n",
              "      <td>0.0</td>\n",
              "      <td>0.0</td>\n",
              "      <td>0.0</td>\n",
              "      <td>99.89</td>\n",
              "      <td>5</td>\n",
              "      <td>A</td>\n",
              "      <td>Urban</td>\n",
              "      <td>1</td>\n",
              "      <td>102.027397</td>\n",
              "    </tr>\n",
              "    <tr>\n",
              "      <th>19085</th>\n",
              "      <td>67942</td>\n",
              "      <td>0.110</td>\n",
              "      <td>37239</td>\n",
              "      <td>102580</td>\n",
              "      <td>0.0</td>\n",
              "      <td>0.0</td>\n",
              "      <td>0.0</td>\n",
              "      <td>99.27</td>\n",
              "      <td>9</td>\n",
              "      <td>B</td>\n",
              "      <td>Urban</td>\n",
              "      <td>1</td>\n",
              "      <td>102.024658</td>\n",
              "    </tr>\n",
              "    <tr>\n",
              "      <th>26029</th>\n",
              "      <td>48348</td>\n",
              "      <td>0.026</td>\n",
              "      <td>36870</td>\n",
              "      <td>50050</td>\n",
              "      <td>0.0</td>\n",
              "      <td>0.0</td>\n",
              "      <td>0.0</td>\n",
              "      <td>99.87</td>\n",
              "      <td>7</td>\n",
              "      <td>A</td>\n",
              "      <td>Rural</td>\n",
              "      <td>1</td>\n",
              "      <td>101.013699</td>\n",
              "    </tr>\n",
              "    <tr>\n",
              "      <th>38401</th>\n",
              "      <td>44175</td>\n",
              "      <td>0.003</td>\n",
              "      <td>36874</td>\n",
              "      <td>86570</td>\n",
              "      <td>2.0</td>\n",
              "      <td>0.0</td>\n",
              "      <td>0.0</td>\n",
              "      <td>NaN</td>\n",
              "      <td>8</td>\n",
              "      <td>A</td>\n",
              "      <td>Rural</td>\n",
              "      <td>0</td>\n",
              "      <td>101.024658</td>\n",
              "    </tr>\n",
              "    <tr>\n",
              "      <th>38441</th>\n",
              "      <td>111319</td>\n",
              "      <td>1.000</td>\n",
              "      <td>37602</td>\n",
              "      <td>48130</td>\n",
              "      <td>0.0</td>\n",
              "      <td>0.0</td>\n",
              "      <td>0.0</td>\n",
              "      <td>NaN</td>\n",
              "      <td>5</td>\n",
              "      <td>A</td>\n",
              "      <td>Rural</td>\n",
              "      <td>1</td>\n",
              "      <td>103.019178</td>\n",
              "    </tr>\n",
              "  </tbody>\n",
              "</table>\n",
              "</div>"
            ],
            "text/plain": [
              "           id  perc_premium_paid_by_cash_credit  ...  target         age\n",
              "5045     7248                             0.010  ...       1  102.027397\n",
              "19085   67942                             0.110  ...       1  102.024658\n",
              "26029   48348                             0.026  ...       1  101.013699\n",
              "38401   44175                             0.003  ...       0  101.024658\n",
              "38441  111319                             1.000  ...       1  103.019178\n",
              "\n",
              "[5 rows x 13 columns]"
            ]
          },
          "metadata": {
            "tags": []
          },
          "execution_count": 47
        }
      ]
    },
    {
      "cell_type": "code",
      "metadata": {
        "id": "QXajKrOmFCsK",
        "colab_type": "code",
        "outputId": "4c0b0642-2df0-4be8-a646-dfcb31249377",
        "colab": {
          "base_uri": "https://localhost:8080/",
          "height": 68
        }
      },
      "source": [
        "Train.query('perc_premium_paid_by_cash_credit == 1.0')['target'].value_counts()"
      ],
      "execution_count": 48,
      "outputs": [
        {
          "output_type": "execute_result",
          "data": {
            "text/plain": [
              "1    4025\n",
              "0     979\n",
              "Name: target, dtype: int64"
            ]
          },
          "metadata": {
            "tags": []
          },
          "execution_count": 48
        }
      ]
    },
    {
      "cell_type": "code",
      "metadata": {
        "id": "C8xqXnF1DqZi",
        "colab_type": "code",
        "colab": {}
      },
      "source": [
        "train_ref = Train.query('perc_premium_paid_by_cash_credit < 1.0')"
      ],
      "execution_count": 0,
      "outputs": []
    },
    {
      "cell_type": "code",
      "metadata": {
        "id": "n1KLiN2yFQ0D",
        "colab_type": "code",
        "colab": {}
      },
      "source": [
        "train_ref = train_ref.reset_index(drop = True)"
      ],
      "execution_count": 0,
      "outputs": []
    },
    {
      "cell_type": "code",
      "metadata": {
        "id": "8Hs58VPOFgPq",
        "colab_type": "code",
        "outputId": "3296df96-616d-4824-910e-71401bffc5c4",
        "colab": {
          "base_uri": "https://localhost:8080/",
          "height": 34
        }
      },
      "source": [
        "train_ref.shape"
      ],
      "execution_count": 51,
      "outputs": [
        {
          "output_type": "execute_result",
          "data": {
            "text/plain": [
              "(74849, 13)"
            ]
          },
          "metadata": {
            "tags": []
          },
          "execution_count": 51
        }
      ]
    },
    {
      "cell_type": "code",
      "metadata": {
        "id": "Cmn8Ul-TGB38",
        "colab_type": "code",
        "outputId": "f4d621a6-27b5-4a6c-fb6a-8d86643a6ce1",
        "colab": {
          "base_uri": "https://localhost:8080/",
          "height": 170
        }
      },
      "source": [
        "train_ref['Income'].describe()"
      ],
      "execution_count": 52,
      "outputs": [
        {
          "output_type": "execute_result",
          "data": {
            "text/plain": [
              "count    7.484900e+04\n",
              "mean     2.133745e+05\n",
              "std      5.112393e+05\n",
              "min      2.403000e+04\n",
              "25%      1.125400e+05\n",
              "50%      1.720600e+05\n",
              "75%      2.558100e+05\n",
              "max      9.026260e+07\n",
              "Name: Income, dtype: float64"
            ]
          },
          "metadata": {
            "tags": []
          },
          "execution_count": 52
        }
      ]
    },
    {
      "cell_type": "code",
      "metadata": {
        "id": "g0PY7EuVGeuD",
        "colab_type": "code",
        "colab": {}
      },
      "source": [
        "train_ref['count_3plus'] = train_ref['Count_3-6_months_late'] + train_ref['Count_6-12_months_late']+train_ref['Count_more_than_12_months_late']"
      ],
      "execution_count": 0,
      "outputs": []
    },
    {
      "cell_type": "code",
      "metadata": {
        "id": "2KMDvO_uGzgJ",
        "colab_type": "code",
        "colab": {}
      },
      "source": [
        "train_ref['count_6plus'] = train_ref['Count_6-12_months_late']+train_ref['Count_more_than_12_months_late']"
      ],
      "execution_count": 0,
      "outputs": []
    },
    {
      "cell_type": "code",
      "metadata": {
        "id": "Kn900AKiHEwc",
        "colab_type": "code",
        "colab": {}
      },
      "source": [
        "train_ref['act_premiums'] = train_ref['count_3plus'] + train_ref['no_of_premiums_paid']"
      ],
      "execution_count": 0,
      "outputs": []
    },
    {
      "cell_type": "code",
      "metadata": {
        "id": "j1AtMxCiHdMJ",
        "colab_type": "code",
        "colab": {}
      },
      "source": [
        "train_ref['perc_premium_paid_ontime'] = train_ref['no_of_premiums_paid']/train_ref['act_premiums']"
      ],
      "execution_count": 0,
      "outputs": []
    },
    {
      "cell_type": "code",
      "metadata": {
        "id": "UMY5eQ4SISN5",
        "colab_type": "code",
        "colab": {}
      },
      "source": [
        "train_ref['perc_premium_paid_atoneinst']=train_ref['perc_premium_paid_by_cash_credit']/train_ref['act_premiums']"
      ],
      "execution_count": 0,
      "outputs": []
    },
    {
      "cell_type": "code",
      "metadata": {
        "id": "GIj59Y2TIxyr",
        "colab_type": "code",
        "outputId": "ddf3c2d2-3acb-493a-c626-cc374f28bea5",
        "colab": {
          "base_uri": "https://localhost:8080/",
          "height": 286
        }
      },
      "source": [
        "train_ref['perc_premium_paid_atoneinst'].plot(kind= 'hist')"
      ],
      "execution_count": 59,
      "outputs": [
        {
          "output_type": "execute_result",
          "data": {
            "text/plain": [
              "<matplotlib.axes._subplots.AxesSubplot at 0x7fea128fbc50>"
            ]
          },
          "metadata": {
            "tags": []
          },
          "execution_count": 59
        },
        {
          "output_type": "display_data",
          "data": {
            "image/png": "[encoded data removed]",
            "text/plain": [
              "<Figure size 432x288 with 1 Axes>"
            ]
          },
          "metadata": {
            "tags": []
          }
        }
      ]
    },
    {
      "cell_type": "code",
      "metadata": {
        "id": "e6dQMdxvKQvt",
        "colab_type": "code",
        "outputId": "4e0e35d8-9891-4400-f614-9c00e4a7471b",
        "colab": {
          "base_uri": "https://localhost:8080/",
          "height": 153
        }
      },
      "source": [
        "train_ref.query('perc_premium_paid_atoneinst>0.10')['act_premiums'].value_counts()"
      ],
      "execution_count": 60,
      "outputs": [
        {
          "output_type": "execute_result",
          "data": {
            "text/plain": [
              "6.0    762\n",
              "7.0    750\n",
              "5.0    640\n",
              "8.0    619\n",
              "4.0    421\n",
              "9.0    364\n",
              "3.0    158\n",
              "Name: act_premiums, dtype: int64"
            ]
          },
          "metadata": {
            "tags": []
          },
          "execution_count": 60
        }
      ]
    },
    {
      "cell_type": "code",
      "metadata": {
        "id": "7C-f4saGKsxR",
        "colab_type": "code",
        "outputId": "f06b513b-9aa5-405f-9d06-7fe24fc9db6e",
        "colab": {
          "base_uri": "https://localhost:8080/",
          "height": 1000
        }
      },
      "source": [
        "train_ref.query('perc_premium_paid_atoneinst > 0.30')"
      ],
      "execution_count": 61,
      "outputs": [
        {
          "output_type": "execute_result",
          "data": {
            "text/html": [
              "<div>\n",
              "<style scoped>\n",
              "    .dataframe tbody tr th:only-of-type {\n",
              "        vertical-align: middle;\n",
              "    }\n",
              "\n",
              "    .dataframe tbody tr th {\n",
              "        vertical-align: top;\n",
              "    }\n",
              "\n",
              "    .dataframe thead th {\n",
              "        text-align: right;\n",
              "    }\n",
              "</style>\n",
              "<table border=\"1\" class=\"dataframe\">\n",
              "  <thead>\n",
              "    <tr style=\"text-align: right;\">\n",
              "      <th></th>\n",
              "      <th>id</th>\n",
              "      <th>perc_premium_paid_by_cash_credit</th>\n",
              "      <th>age_in_days</th>\n",
              "      <th>Income</th>\n",
              "      <th>Count_3-6_months_late</th>\n",
              "      <th>Count_6-12_months_late</th>\n",
              "      <th>Count_more_than_12_months_late</th>\n",
              "      <th>application_underwriting_score</th>\n",
              "      <th>no_of_premiums_paid</th>\n",
              "      <th>sourcing_channel</th>\n",
              "      <th>residence_area_type</th>\n",
              "      <th>target</th>\n",
              "      <th>age</th>\n",
              "      <th>count_3plus</th>\n",
              "      <th>count_6plus</th>\n",
              "      <th>act_premiums</th>\n",
              "      <th>perc_premium_paid_ontime</th>\n",
              "      <th>perc_premium_paid_atoneinst</th>\n",
              "    </tr>\n",
              "  </thead>\n",
              "  <tbody>\n",
              "    <tr>\n",
              "      <th>848</th>\n",
              "      <td>87604</td>\n",
              "      <td>0.936</td>\n",
              "      <td>10596</td>\n",
              "      <td>120140</td>\n",
              "      <td>0.0</td>\n",
              "      <td>0.0</td>\n",
              "      <td>0.0</td>\n",
              "      <td>99.82</td>\n",
              "      <td>3</td>\n",
              "      <td>A</td>\n",
              "      <td>Urban</td>\n",
              "      <td>1</td>\n",
              "      <td>29.030137</td>\n",
              "      <td>0.0</td>\n",
              "      <td>0.0</td>\n",
              "      <td>3.0</td>\n",
              "      <td>1.0</td>\n",
              "      <td>0.312000</td>\n",
              "    </tr>\n",
              "    <tr>\n",
              "      <th>1984</th>\n",
              "      <td>54704</td>\n",
              "      <td>0.951</td>\n",
              "      <td>7670</td>\n",
              "      <td>93110</td>\n",
              "      <td>0.0</td>\n",
              "      <td>0.0</td>\n",
              "      <td>0.0</td>\n",
              "      <td>99.88</td>\n",
              "      <td>3</td>\n",
              "      <td>A</td>\n",
              "      <td>Rural</td>\n",
              "      <td>1</td>\n",
              "      <td>21.013699</td>\n",
              "      <td>0.0</td>\n",
              "      <td>0.0</td>\n",
              "      <td>3.0</td>\n",
              "      <td>1.0</td>\n",
              "      <td>0.317000</td>\n",
              "    </tr>\n",
              "    <tr>\n",
              "      <th>2800</th>\n",
              "      <td>55763</td>\n",
              "      <td>0.938</td>\n",
              "      <td>9498</td>\n",
              "      <td>24150</td>\n",
              "      <td>0.0</td>\n",
              "      <td>0.0</td>\n",
              "      <td>0.0</td>\n",
              "      <td>99.85</td>\n",
              "      <td>3</td>\n",
              "      <td>A</td>\n",
              "      <td>Urban</td>\n",
              "      <td>1</td>\n",
              "      <td>26.021918</td>\n",
              "      <td>0.0</td>\n",
              "      <td>0.0</td>\n",
              "      <td>3.0</td>\n",
              "      <td>1.0</td>\n",
              "      <td>0.312667</td>\n",
              "    </tr>\n",
              "    <tr>\n",
              "      <th>3498</th>\n",
              "      <td>48645</td>\n",
              "      <td>0.994</td>\n",
              "      <td>22638</td>\n",
              "      <td>282030</td>\n",
              "      <td>0.0</td>\n",
              "      <td>0.0</td>\n",
              "      <td>0.0</td>\n",
              "      <td>99.89</td>\n",
              "      <td>3</td>\n",
              "      <td>B</td>\n",
              "      <td>Urban</td>\n",
              "      <td>1</td>\n",
              "      <td>62.021918</td>\n",
              "      <td>0.0</td>\n",
              "      <td>0.0</td>\n",
              "      <td>3.0</td>\n",
              "      <td>1.0</td>\n",
              "      <td>0.331333</td>\n",
              "    </tr>\n",
              "    <tr>\n",
              "      <th>8224</th>\n",
              "      <td>107891</td>\n",
              "      <td>0.921</td>\n",
              "      <td>9131</td>\n",
              "      <td>77440</td>\n",
              "      <td>0.0</td>\n",
              "      <td>0.0</td>\n",
              "      <td>0.0</td>\n",
              "      <td>99.88</td>\n",
              "      <td>3</td>\n",
              "      <td>A</td>\n",
              "      <td>Rural</td>\n",
              "      <td>1</td>\n",
              "      <td>25.016438</td>\n",
              "      <td>0.0</td>\n",
              "      <td>0.0</td>\n",
              "      <td>3.0</td>\n",
              "      <td>1.0</td>\n",
              "      <td>0.307000</td>\n",
              "    </tr>\n",
              "    <tr>\n",
              "      <th>8239</th>\n",
              "      <td>52951</td>\n",
              "      <td>0.902</td>\n",
              "      <td>9860</td>\n",
              "      <td>137110</td>\n",
              "      <td>0.0</td>\n",
              "      <td>0.0</td>\n",
              "      <td>0.0</td>\n",
              "      <td>99.80</td>\n",
              "      <td>3</td>\n",
              "      <td>A</td>\n",
              "      <td>Urban</td>\n",
              "      <td>1</td>\n",
              "      <td>27.013699</td>\n",
              "      <td>0.0</td>\n",
              "      <td>0.0</td>\n",
              "      <td>3.0</td>\n",
              "      <td>1.0</td>\n",
              "      <td>0.300667</td>\n",
              "    </tr>\n",
              "    <tr>\n",
              "      <th>12579</th>\n",
              "      <td>78851</td>\n",
              "      <td>0.978</td>\n",
              "      <td>20812</td>\n",
              "      <td>475140</td>\n",
              "      <td>0.0</td>\n",
              "      <td>0.0</td>\n",
              "      <td>0.0</td>\n",
              "      <td>99.73</td>\n",
              "      <td>3</td>\n",
              "      <td>A</td>\n",
              "      <td>Urban</td>\n",
              "      <td>1</td>\n",
              "      <td>57.019178</td>\n",
              "      <td>0.0</td>\n",
              "      <td>0.0</td>\n",
              "      <td>3.0</td>\n",
              "      <td>1.0</td>\n",
              "      <td>0.326000</td>\n",
              "    </tr>\n",
              "    <tr>\n",
              "      <th>12873</th>\n",
              "      <td>53204</td>\n",
              "      <td>0.982</td>\n",
              "      <td>17163</td>\n",
              "      <td>36010</td>\n",
              "      <td>0.0</td>\n",
              "      <td>0.0</td>\n",
              "      <td>0.0</td>\n",
              "      <td>99.87</td>\n",
              "      <td>3</td>\n",
              "      <td>A</td>\n",
              "      <td>Rural</td>\n",
              "      <td>0</td>\n",
              "      <td>47.021918</td>\n",
              "      <td>0.0</td>\n",
              "      <td>0.0</td>\n",
              "      <td>3.0</td>\n",
              "      <td>1.0</td>\n",
              "      <td>0.327333</td>\n",
              "    </tr>\n",
              "    <tr>\n",
              "      <th>12880</th>\n",
              "      <td>59949</td>\n",
              "      <td>0.905</td>\n",
              "      <td>9867</td>\n",
              "      <td>163860</td>\n",
              "      <td>0.0</td>\n",
              "      <td>0.0</td>\n",
              "      <td>0.0</td>\n",
              "      <td>NaN</td>\n",
              "      <td>3</td>\n",
              "      <td>A</td>\n",
              "      <td>Rural</td>\n",
              "      <td>1</td>\n",
              "      <td>27.032877</td>\n",
              "      <td>0.0</td>\n",
              "      <td>0.0</td>\n",
              "      <td>3.0</td>\n",
              "      <td>1.0</td>\n",
              "      <td>0.301667</td>\n",
              "    </tr>\n",
              "    <tr>\n",
              "      <th>19944</th>\n",
              "      <td>95175</td>\n",
              "      <td>0.920</td>\n",
              "      <td>13884</td>\n",
              "      <td>60260</td>\n",
              "      <td>0.0</td>\n",
              "      <td>0.0</td>\n",
              "      <td>0.0</td>\n",
              "      <td>99.89</td>\n",
              "      <td>3</td>\n",
              "      <td>B</td>\n",
              "      <td>Rural</td>\n",
              "      <td>0</td>\n",
              "      <td>38.038356</td>\n",
              "      <td>0.0</td>\n",
              "      <td>0.0</td>\n",
              "      <td>3.0</td>\n",
              "      <td>1.0</td>\n",
              "      <td>0.306667</td>\n",
              "    </tr>\n",
              "    <tr>\n",
              "      <th>21895</th>\n",
              "      <td>72805</td>\n",
              "      <td>0.985</td>\n",
              "      <td>15336</td>\n",
              "      <td>75130</td>\n",
              "      <td>0.0</td>\n",
              "      <td>0.0</td>\n",
              "      <td>0.0</td>\n",
              "      <td>99.22</td>\n",
              "      <td>3</td>\n",
              "      <td>E</td>\n",
              "      <td>Urban</td>\n",
              "      <td>1</td>\n",
              "      <td>42.016438</td>\n",
              "      <td>0.0</td>\n",
              "      <td>0.0</td>\n",
              "      <td>3.0</td>\n",
              "      <td>1.0</td>\n",
              "      <td>0.328333</td>\n",
              "    </tr>\n",
              "    <tr>\n",
              "      <th>22878</th>\n",
              "      <td>34306</td>\n",
              "      <td>0.954</td>\n",
              "      <td>25920</td>\n",
              "      <td>122540</td>\n",
              "      <td>0.0</td>\n",
              "      <td>0.0</td>\n",
              "      <td>0.0</td>\n",
              "      <td>99.84</td>\n",
              "      <td>3</td>\n",
              "      <td>A</td>\n",
              "      <td>Urban</td>\n",
              "      <td>1</td>\n",
              "      <td>71.013699</td>\n",
              "      <td>0.0</td>\n",
              "      <td>0.0</td>\n",
              "      <td>3.0</td>\n",
              "      <td>1.0</td>\n",
              "      <td>0.318000</td>\n",
              "    </tr>\n",
              "    <tr>\n",
              "      <th>25433</th>\n",
              "      <td>28266</td>\n",
              "      <td>0.958</td>\n",
              "      <td>9864</td>\n",
              "      <td>132060</td>\n",
              "      <td>0.0</td>\n",
              "      <td>0.0</td>\n",
              "      <td>0.0</td>\n",
              "      <td>99.87</td>\n",
              "      <td>3</td>\n",
              "      <td>B</td>\n",
              "      <td>Urban</td>\n",
              "      <td>1</td>\n",
              "      <td>27.024658</td>\n",
              "      <td>0.0</td>\n",
              "      <td>0.0</td>\n",
              "      <td>3.0</td>\n",
              "      <td>1.0</td>\n",
              "      <td>0.319333</td>\n",
              "    </tr>\n",
              "    <tr>\n",
              "      <th>28804</th>\n",
              "      <td>36955</td>\n",
              "      <td>0.966</td>\n",
              "      <td>21906</td>\n",
              "      <td>57050</td>\n",
              "      <td>0.0</td>\n",
              "      <td>0.0</td>\n",
              "      <td>0.0</td>\n",
              "      <td>99.69</td>\n",
              "      <td>3</td>\n",
              "      <td>A</td>\n",
              "      <td>Rural</td>\n",
              "      <td>1</td>\n",
              "      <td>60.016438</td>\n",
              "      <td>0.0</td>\n",
              "      <td>0.0</td>\n",
              "      <td>3.0</td>\n",
              "      <td>1.0</td>\n",
              "      <td>0.322000</td>\n",
              "    </tr>\n",
              "    <tr>\n",
              "      <th>38385</th>\n",
              "      <td>69225</td>\n",
              "      <td>0.980</td>\n",
              "      <td>16433</td>\n",
              "      <td>90070</td>\n",
              "      <td>0.0</td>\n",
              "      <td>0.0</td>\n",
              "      <td>0.0</td>\n",
              "      <td>99.82</td>\n",
              "      <td>3</td>\n",
              "      <td>A</td>\n",
              "      <td>Urban</td>\n",
              "      <td>1</td>\n",
              "      <td>45.021918</td>\n",
              "      <td>0.0</td>\n",
              "      <td>0.0</td>\n",
              "      <td>3.0</td>\n",
              "      <td>1.0</td>\n",
              "      <td>0.326667</td>\n",
              "    </tr>\n",
              "    <tr>\n",
              "      <th>38475</th>\n",
              "      <td>74214</td>\n",
              "      <td>0.932</td>\n",
              "      <td>8772</td>\n",
              "      <td>40530</td>\n",
              "      <td>0.0</td>\n",
              "      <td>0.0</td>\n",
              "      <td>0.0</td>\n",
              "      <td>99.88</td>\n",
              "      <td>3</td>\n",
              "      <td>A</td>\n",
              "      <td>Rural</td>\n",
              "      <td>1</td>\n",
              "      <td>24.032877</td>\n",
              "      <td>0.0</td>\n",
              "      <td>0.0</td>\n",
              "      <td>3.0</td>\n",
              "      <td>1.0</td>\n",
              "      <td>0.310667</td>\n",
              "    </tr>\n",
              "    <tr>\n",
              "      <th>43227</th>\n",
              "      <td>82741</td>\n",
              "      <td>0.904</td>\n",
              "      <td>8045</td>\n",
              "      <td>24750</td>\n",
              "      <td>0.0</td>\n",
              "      <td>0.0</td>\n",
              "      <td>0.0</td>\n",
              "      <td>99.79</td>\n",
              "      <td>3</td>\n",
              "      <td>A</td>\n",
              "      <td>Urban</td>\n",
              "      <td>1</td>\n",
              "      <td>22.041096</td>\n",
              "      <td>0.0</td>\n",
              "      <td>0.0</td>\n",
              "      <td>3.0</td>\n",
              "      <td>1.0</td>\n",
              "      <td>0.301333</td>\n",
              "    </tr>\n",
              "    <tr>\n",
              "      <th>44493</th>\n",
              "      <td>22340</td>\n",
              "      <td>0.980</td>\n",
              "      <td>8409</td>\n",
              "      <td>24730</td>\n",
              "      <td>0.0</td>\n",
              "      <td>0.0</td>\n",
              "      <td>0.0</td>\n",
              "      <td>99.57</td>\n",
              "      <td>3</td>\n",
              "      <td>A</td>\n",
              "      <td>Rural</td>\n",
              "      <td>1</td>\n",
              "      <td>23.038356</td>\n",
              "      <td>0.0</td>\n",
              "      <td>0.0</td>\n",
              "      <td>3.0</td>\n",
              "      <td>1.0</td>\n",
              "      <td>0.326667</td>\n",
              "    </tr>\n",
              "    <tr>\n",
              "      <th>50234</th>\n",
              "      <td>24948</td>\n",
              "      <td>0.978</td>\n",
              "      <td>14612</td>\n",
              "      <td>66010</td>\n",
              "      <td>0.0</td>\n",
              "      <td>0.0</td>\n",
              "      <td>0.0</td>\n",
              "      <td>99.87</td>\n",
              "      <td>3</td>\n",
              "      <td>B</td>\n",
              "      <td>Urban</td>\n",
              "      <td>1</td>\n",
              "      <td>40.032877</td>\n",
              "      <td>0.0</td>\n",
              "      <td>0.0</td>\n",
              "      <td>3.0</td>\n",
              "      <td>1.0</td>\n",
              "      <td>0.326000</td>\n",
              "    </tr>\n",
              "    <tr>\n",
              "      <th>52007</th>\n",
              "      <td>64137</td>\n",
              "      <td>0.939</td>\n",
              "      <td>8038</td>\n",
              "      <td>48050</td>\n",
              "      <td>0.0</td>\n",
              "      <td>0.0</td>\n",
              "      <td>0.0</td>\n",
              "      <td>99.86</td>\n",
              "      <td>3</td>\n",
              "      <td>B</td>\n",
              "      <td>Urban</td>\n",
              "      <td>1</td>\n",
              "      <td>22.021918</td>\n",
              "      <td>0.0</td>\n",
              "      <td>0.0</td>\n",
              "      <td>3.0</td>\n",
              "      <td>1.0</td>\n",
              "      <td>0.313000</td>\n",
              "    </tr>\n",
              "    <tr>\n",
              "      <th>52526</th>\n",
              "      <td>51658</td>\n",
              "      <td>0.907</td>\n",
              "      <td>13880</td>\n",
              "      <td>99480</td>\n",
              "      <td>0.0</td>\n",
              "      <td>0.0</td>\n",
              "      <td>0.0</td>\n",
              "      <td>99.75</td>\n",
              "      <td>3</td>\n",
              "      <td>A</td>\n",
              "      <td>Urban</td>\n",
              "      <td>1</td>\n",
              "      <td>38.027397</td>\n",
              "      <td>0.0</td>\n",
              "      <td>0.0</td>\n",
              "      <td>3.0</td>\n",
              "      <td>1.0</td>\n",
              "      <td>0.302333</td>\n",
              "    </tr>\n",
              "    <tr>\n",
              "      <th>54802</th>\n",
              "      <td>90316</td>\n",
              "      <td>0.902</td>\n",
              "      <td>11320</td>\n",
              "      <td>69130</td>\n",
              "      <td>0.0</td>\n",
              "      <td>0.0</td>\n",
              "      <td>0.0</td>\n",
              "      <td>99.76</td>\n",
              "      <td>3</td>\n",
              "      <td>A</td>\n",
              "      <td>Rural</td>\n",
              "      <td>1</td>\n",
              "      <td>31.013699</td>\n",
              "      <td>0.0</td>\n",
              "      <td>0.0</td>\n",
              "      <td>3.0</td>\n",
              "      <td>1.0</td>\n",
              "      <td>0.300667</td>\n",
              "    </tr>\n",
              "    <tr>\n",
              "      <th>55306</th>\n",
              "      <td>103173</td>\n",
              "      <td>0.960</td>\n",
              "      <td>16439</td>\n",
              "      <td>64350</td>\n",
              "      <td>0.0</td>\n",
              "      <td>0.0</td>\n",
              "      <td>0.0</td>\n",
              "      <td>99.89</td>\n",
              "      <td>3</td>\n",
              "      <td>D</td>\n",
              "      <td>Rural</td>\n",
              "      <td>1</td>\n",
              "      <td>45.038356</td>\n",
              "      <td>0.0</td>\n",
              "      <td>0.0</td>\n",
              "      <td>3.0</td>\n",
              "      <td>1.0</td>\n",
              "      <td>0.320000</td>\n",
              "    </tr>\n",
              "    <tr>\n",
              "      <th>58047</th>\n",
              "      <td>40725</td>\n",
              "      <td>0.948</td>\n",
              "      <td>9869</td>\n",
              "      <td>36120</td>\n",
              "      <td>0.0</td>\n",
              "      <td>0.0</td>\n",
              "      <td>0.0</td>\n",
              "      <td>99.89</td>\n",
              "      <td>3</td>\n",
              "      <td>A</td>\n",
              "      <td>Rural</td>\n",
              "      <td>0</td>\n",
              "      <td>27.038356</td>\n",
              "      <td>0.0</td>\n",
              "      <td>0.0</td>\n",
              "      <td>3.0</td>\n",
              "      <td>1.0</td>\n",
              "      <td>0.316000</td>\n",
              "    </tr>\n",
              "    <tr>\n",
              "      <th>59954</th>\n",
              "      <td>87280</td>\n",
              "      <td>0.996</td>\n",
              "      <td>8410</td>\n",
              "      <td>137540</td>\n",
              "      <td>0.0</td>\n",
              "      <td>0.0</td>\n",
              "      <td>0.0</td>\n",
              "      <td>99.89</td>\n",
              "      <td>3</td>\n",
              "      <td>A</td>\n",
              "      <td>Rural</td>\n",
              "      <td>1</td>\n",
              "      <td>23.041096</td>\n",
              "      <td>0.0</td>\n",
              "      <td>0.0</td>\n",
              "      <td>3.0</td>\n",
              "      <td>1.0</td>\n",
              "      <td>0.332000</td>\n",
              "    </tr>\n",
              "    <tr>\n",
              "      <th>60724</th>\n",
              "      <td>13802</td>\n",
              "      <td>0.993</td>\n",
              "      <td>20082</td>\n",
              "      <td>29210</td>\n",
              "      <td>0.0</td>\n",
              "      <td>0.0</td>\n",
              "      <td>0.0</td>\n",
              "      <td>99.62</td>\n",
              "      <td>3</td>\n",
              "      <td>A</td>\n",
              "      <td>Urban</td>\n",
              "      <td>1</td>\n",
              "      <td>55.019178</td>\n",
              "      <td>0.0</td>\n",
              "      <td>0.0</td>\n",
              "      <td>3.0</td>\n",
              "      <td>1.0</td>\n",
              "      <td>0.331000</td>\n",
              "    </tr>\n",
              "    <tr>\n",
              "      <th>60824</th>\n",
              "      <td>11944</td>\n",
              "      <td>0.966</td>\n",
              "      <td>14248</td>\n",
              "      <td>30130</td>\n",
              "      <td>0.0</td>\n",
              "      <td>0.0</td>\n",
              "      <td>0.0</td>\n",
              "      <td>99.17</td>\n",
              "      <td>3</td>\n",
              "      <td>A</td>\n",
              "      <td>Rural</td>\n",
              "      <td>1</td>\n",
              "      <td>39.035616</td>\n",
              "      <td>0.0</td>\n",
              "      <td>0.0</td>\n",
              "      <td>3.0</td>\n",
              "      <td>1.0</td>\n",
              "      <td>0.322000</td>\n",
              "    </tr>\n",
              "    <tr>\n",
              "      <th>64220</th>\n",
              "      <td>24556</td>\n",
              "      <td>0.975</td>\n",
              "      <td>21185</td>\n",
              "      <td>177230</td>\n",
              "      <td>0.0</td>\n",
              "      <td>0.0</td>\n",
              "      <td>0.0</td>\n",
              "      <td>99.79</td>\n",
              "      <td>3</td>\n",
              "      <td>A</td>\n",
              "      <td>Urban</td>\n",
              "      <td>1</td>\n",
              "      <td>58.041096</td>\n",
              "      <td>0.0</td>\n",
              "      <td>0.0</td>\n",
              "      <td>3.0</td>\n",
              "      <td>1.0</td>\n",
              "      <td>0.325000</td>\n",
              "    </tr>\n",
              "    <tr>\n",
              "      <th>65905</th>\n",
              "      <td>62552</td>\n",
              "      <td>0.983</td>\n",
              "      <td>12055</td>\n",
              "      <td>74450</td>\n",
              "      <td>0.0</td>\n",
              "      <td>0.0</td>\n",
              "      <td>0.0</td>\n",
              "      <td>99.71</td>\n",
              "      <td>3</td>\n",
              "      <td>B</td>\n",
              "      <td>Rural</td>\n",
              "      <td>1</td>\n",
              "      <td>33.027397</td>\n",
              "      <td>0.0</td>\n",
              "      <td>0.0</td>\n",
              "      <td>3.0</td>\n",
              "      <td>1.0</td>\n",
              "      <td>0.327667</td>\n",
              "    </tr>\n",
              "    <tr>\n",
              "      <th>66941</th>\n",
              "      <td>106572</td>\n",
              "      <td>0.947</td>\n",
              "      <td>12782</td>\n",
              "      <td>270120</td>\n",
              "      <td>0.0</td>\n",
              "      <td>0.0</td>\n",
              "      <td>0.0</td>\n",
              "      <td>99.85</td>\n",
              "      <td>3</td>\n",
              "      <td>A</td>\n",
              "      <td>Urban</td>\n",
              "      <td>1</td>\n",
              "      <td>35.019178</td>\n",
              "      <td>0.0</td>\n",
              "      <td>0.0</td>\n",
              "      <td>3.0</td>\n",
              "      <td>1.0</td>\n",
              "      <td>0.315667</td>\n",
              "    </tr>\n",
              "    <tr>\n",
              "      <th>68200</th>\n",
              "      <td>45993</td>\n",
              "      <td>0.969</td>\n",
              "      <td>15708</td>\n",
              "      <td>111520</td>\n",
              "      <td>0.0</td>\n",
              "      <td>0.0</td>\n",
              "      <td>0.0</td>\n",
              "      <td>99.43</td>\n",
              "      <td>3</td>\n",
              "      <td>A</td>\n",
              "      <td>Rural</td>\n",
              "      <td>1</td>\n",
              "      <td>43.035616</td>\n",
              "      <td>0.0</td>\n",
              "      <td>0.0</td>\n",
              "      <td>3.0</td>\n",
              "      <td>1.0</td>\n",
              "      <td>0.323000</td>\n",
              "    </tr>\n",
              "    <tr>\n",
              "      <th>69037</th>\n",
              "      <td>95222</td>\n",
              "      <td>0.962</td>\n",
              "      <td>9861</td>\n",
              "      <td>98590</td>\n",
              "      <td>0.0</td>\n",
              "      <td>0.0</td>\n",
              "      <td>0.0</td>\n",
              "      <td>99.89</td>\n",
              "      <td>3</td>\n",
              "      <td>A</td>\n",
              "      <td>Urban</td>\n",
              "      <td>1</td>\n",
              "      <td>27.016438</td>\n",
              "      <td>0.0</td>\n",
              "      <td>0.0</td>\n",
              "      <td>3.0</td>\n",
              "      <td>1.0</td>\n",
              "      <td>0.320667</td>\n",
              "    </tr>\n",
              "    <tr>\n",
              "      <th>70193</th>\n",
              "      <td>82075</td>\n",
              "      <td>0.922</td>\n",
              "      <td>16803</td>\n",
              "      <td>90090</td>\n",
              "      <td>0.0</td>\n",
              "      <td>0.0</td>\n",
              "      <td>0.0</td>\n",
              "      <td>99.89</td>\n",
              "      <td>3</td>\n",
              "      <td>C</td>\n",
              "      <td>Urban</td>\n",
              "      <td>0</td>\n",
              "      <td>46.035616</td>\n",
              "      <td>0.0</td>\n",
              "      <td>0.0</td>\n",
              "      <td>3.0</td>\n",
              "      <td>1.0</td>\n",
              "      <td>0.307333</td>\n",
              "    </tr>\n",
              "    <tr>\n",
              "      <th>72911</th>\n",
              "      <td>75902</td>\n",
              "      <td>0.982</td>\n",
              "      <td>17528</td>\n",
              "      <td>95130</td>\n",
              "      <td>0.0</td>\n",
              "      <td>0.0</td>\n",
              "      <td>0.0</td>\n",
              "      <td>99.79</td>\n",
              "      <td>3</td>\n",
              "      <td>A</td>\n",
              "      <td>Urban</td>\n",
              "      <td>0</td>\n",
              "      <td>48.021918</td>\n",
              "      <td>0.0</td>\n",
              "      <td>0.0</td>\n",
              "      <td>3.0</td>\n",
              "      <td>1.0</td>\n",
              "      <td>0.327333</td>\n",
              "    </tr>\n",
              "    <tr>\n",
              "      <th>73351</th>\n",
              "      <td>20958</td>\n",
              "      <td>0.937</td>\n",
              "      <td>21546</td>\n",
              "      <td>319310</td>\n",
              "      <td>0.0</td>\n",
              "      <td>0.0</td>\n",
              "      <td>0.0</td>\n",
              "      <td>99.84</td>\n",
              "      <td>3</td>\n",
              "      <td>C</td>\n",
              "      <td>Rural</td>\n",
              "      <td>1</td>\n",
              "      <td>59.030137</td>\n",
              "      <td>0.0</td>\n",
              "      <td>0.0</td>\n",
              "      <td>3.0</td>\n",
              "      <td>1.0</td>\n",
              "      <td>0.312333</td>\n",
              "    </tr>\n",
              "    <tr>\n",
              "      <th>73697</th>\n",
              "      <td>103469</td>\n",
              "      <td>0.965</td>\n",
              "      <td>18265</td>\n",
              "      <td>360100</td>\n",
              "      <td>0.0</td>\n",
              "      <td>0.0</td>\n",
              "      <td>0.0</td>\n",
              "      <td>99.88</td>\n",
              "      <td>3</td>\n",
              "      <td>A</td>\n",
              "      <td>Urban</td>\n",
              "      <td>1</td>\n",
              "      <td>50.041096</td>\n",
              "      <td>0.0</td>\n",
              "      <td>0.0</td>\n",
              "      <td>3.0</td>\n",
              "      <td>1.0</td>\n",
              "      <td>0.321667</td>\n",
              "    </tr>\n",
              "    <tr>\n",
              "      <th>73800</th>\n",
              "      <td>47574</td>\n",
              "      <td>0.949</td>\n",
              "      <td>9137</td>\n",
              "      <td>51070</td>\n",
              "      <td>0.0</td>\n",
              "      <td>0.0</td>\n",
              "      <td>0.0</td>\n",
              "      <td>99.76</td>\n",
              "      <td>3</td>\n",
              "      <td>A</td>\n",
              "      <td>Urban</td>\n",
              "      <td>0</td>\n",
              "      <td>25.032877</td>\n",
              "      <td>0.0</td>\n",
              "      <td>0.0</td>\n",
              "      <td>3.0</td>\n",
              "      <td>1.0</td>\n",
              "      <td>0.316333</td>\n",
              "    </tr>\n",
              "  </tbody>\n",
              "</table>\n",
              "</div>"
            ],
            "text/plain": [
              "           id  ...  perc_premium_paid_atoneinst\n",
              "848     87604  ...                     0.312000\n",
              "1984    54704  ...                     0.317000\n",
              "2800    55763  ...                     0.312667\n",
              "3498    48645  ...                     0.331333\n",
              "8224   107891  ...                     0.307000\n",
              "8239    52951  ...                     0.300667\n",
              "12579   78851  ...                     0.326000\n",
              "12873   53204  ...                     0.327333\n",
              "12880   59949  ...                     0.301667\n",
              "19944   95175  ...                     0.306667\n",
              "21895   72805  ...                     0.328333\n",
              "22878   34306  ...                     0.318000\n",
              "25433   28266  ...                     0.319333\n",
              "28804   36955  ...                     0.322000\n",
              "38385   69225  ...                     0.326667\n",
              "38475   74214  ...                     0.310667\n",
              "43227   82741  ...                     0.301333\n",
              "44493   22340  ...                     0.326667\n",
              "50234   24948  ...                     0.326000\n",
              "52007   64137  ...                     0.313000\n",
              "52526   51658  ...                     0.302333\n",
              "54802   90316  ...                     0.300667\n",
              "55306  103173  ...                     0.320000\n",
              "58047   40725  ...                     0.316000\n",
              "59954   87280  ...                     0.332000\n",
              "60724   13802  ...                     0.331000\n",
              "60824   11944  ...                     0.322000\n",
              "64220   24556  ...                     0.325000\n",
              "65905   62552  ...                     0.327667\n",
              "66941  106572  ...                     0.315667\n",
              "68200   45993  ...                     0.323000\n",
              "69037   95222  ...                     0.320667\n",
              "70193   82075  ...                     0.307333\n",
              "72911   75902  ...                     0.327333\n",
              "73351   20958  ...                     0.312333\n",
              "73697  103469  ...                     0.321667\n",
              "73800   47574  ...                     0.316333\n",
              "\n",
              "[37 rows x 18 columns]"
            ]
          },
          "metadata": {
            "tags": []
          },
          "execution_count": 61
        }
      ]
    },
    {
      "cell_type": "code",
      "metadata": {
        "id": "yks0FOBtLm8N",
        "colab_type": "code",
        "colab": {}
      },
      "source": [
        "train_ref['total_premiums_tobepaid']= 1.0/train_ref['perc_premium_paid_atoneinst']"
      ],
      "execution_count": 0,
      "outputs": []
    },
    {
      "cell_type": "code",
      "metadata": {
        "id": "EYGaJVVENHhb",
        "colab_type": "code",
        "colab": {}
      },
      "source": [
        "train_ref['total_premiums_tobepaid'].replace({np.inf:np.nan},inplace = True)"
      ],
      "execution_count": 0,
      "outputs": []
    },
    {
      "cell_type": "code",
      "metadata": {
        "id": "CfY8AmS9NdFi",
        "colab_type": "code",
        "colab": {}
      },
      "source": [
        "train_ref['premium_left'] = train_ref['total_premiums_tobepaid'] - train_ref['act_premiums']"
      ],
      "execution_count": 0,
      "outputs": []
    },
    {
      "cell_type": "code",
      "metadata": {
        "id": "F_UmS1gpNs5y",
        "colab_type": "code",
        "outputId": "243405b9-b236-47bd-b486-a30cb32e19d8",
        "colab": {
          "base_uri": "https://localhost:8080/",
          "height": 286
        }
      },
      "source": [
        "train_ref['premium_left'].plot(kind = 'hist')"
      ],
      "execution_count": 66,
      "outputs": [
        {
          "output_type": "execute_result",
          "data": {
            "text/plain": [
              "<matplotlib.axes._subplots.AxesSubplot at 0x7fea127f57b8>"
            ]
          },
          "metadata": {
            "tags": []
          },
          "execution_count": 66
        },
        {
          "output_type": "display_data",
          "data": {
            "image/png": "[encoded data removed]",
            "text/plain": [
              "<Figure size 432x288 with 1 Axes>"
            ]
          },
          "metadata": {
            "tags": []
          }
        }
      ]
    },
    {
      "cell_type": "code",
      "metadata": {
        "id": "Iwvj8ExWQJI2",
        "colab_type": "code",
        "colab": {}
      },
      "source": [
        "train_ref['residence_area_type'] = train_ref['residence_area_type'].apply(lambda x:1 if x == 'Urban'else 0)"
      ],
      "execution_count": 0,
      "outputs": []
    },
    {
      "cell_type": "code",
      "metadata": {
        "id": "gy78TcL_wF2G",
        "colab_type": "code",
        "colab": {}
      },
      "source": [
        "train_ref2 = pd.get_dummies(train_ref)"
      ],
      "execution_count": 0,
      "outputs": []
    },
    {
      "cell_type": "code",
      "metadata": {
        "id": "akDVrcC5SJ1C",
        "colab_type": "code",
        "colab": {}
      },
      "source": [
        "import xgboost as xgb\n"
      ],
      "execution_count": 0,
      "outputs": []
    },
    {
      "cell_type": "code",
      "metadata": {
        "id": "Bm_1QSHuSONJ",
        "colab_type": "code",
        "colab": {}
      },
      "source": [
        "train_ref2['uw_score']= train_ref['application_underwriting_score']-90\n"
      ],
      "execution_count": 0,
      "outputs": []
    },
    {
      "cell_type": "code",
      "metadata": {
        "id": "OvrbBCZtZvLD",
        "colab_type": "code",
        "outputId": "28d6a012-9581-4b4e-8fed-34cf10e33a10",
        "colab": {
          "base_uri": "https://localhost:8080/",
          "height": 170
        }
      },
      "source": [
        "!pip install hyperopt"
      ],
      "execution_count": 71,
      "outputs": [
        {
          "output_type": "stream",
          "text": [
            "Requirement already satisfied: hyperopt in /usr/local/lib/python3.6/dist-packages (0.1.2)\n",
            "Requirement already satisfied: pymongo in /usr/local/lib/python3.6/dist-packages (from hyperopt) (3.8.0)\n",
            "Requirement already satisfied: tqdm in /usr/local/lib/python3.6/dist-packages (from hyperopt) (4.28.1)\n",
            "Requirement already satisfied: scipy in /usr/local/lib/python3.6/dist-packages (from hyperopt) (1.3.0)\n",
            "Requirement already satisfied: numpy in /usr/local/lib/python3.6/dist-packages (from hyperopt) (1.16.4)\n",
            "Requirement already satisfied: networkx in /usr/local/lib/python3.6/dist-packages (from hyperopt) (2.3)\n",
            "Requirement already satisfied: six in /usr/local/lib/python3.6/dist-packages (from hyperopt) (1.12.0)\n",
            "Requirement already satisfied: future in /usr/local/lib/python3.6/dist-packages (from hyperopt) (0.16.0)\n",
            "Requirement already satisfied: decorator>=4.3.0 in /usr/local/lib/python3.6/dist-packages (from networkx->hyperopt) (4.4.0)\n"
          ],
          "name": "stdout"
        }
      ]
    },
    {
      "cell_type": "code",
      "metadata": {
        "id": "2EkP6oavUyam",
        "colab_type": "code",
        "colab": {}
      },
      "source": [
        "def train_ref_transformation(train_ref):\n",
        "      train_ref['age'] = train_ref['age_in_days']/365\n",
        "      train_ref['count_3plus'] = train_ref['Count_3-6_months_late'] + train_ref['Count_6-12_months_late'] + train_ref['Count_more_than_12_months_late'] \n",
        "      train_ref['count_6plus'] = train_ref['Count_6-12_months_late'] + train_ref['Count_more_than_12_months_late'] \n",
        "      train_ref['act_premiums'] = train_ref['count_3plus'] + train_ref['no_of_premiums_paid']\n",
        "      train_ref['perc_premium_paid_ontime'] = train_ref['no_of_premiums_paid'] / train_ref['act_premiums'] \n",
        "      train_ref['perc_premium_paid_atoneinst'] = train_ref['perc_premium_paid_by_cash_credit'] / train_ref['act_premiums'] \n",
        "      train_ref['total_premiums_tobepaid'] = 1.0 / (train_ref['perc_premium_paid_atoneinst'])\n",
        "      train_ref['residence_area_type'] = train_ref['residence_area_type'].apply(lambda x:1 if x == 'Urban' else 0)\n",
        "      train_ref['uw_score'] = train_ref['application_underwriting_score'] - 90\n",
        "      return pd.get_dummies(train_ref)"
      ],
      "execution_count": 0,
      "outputs": []
    },
    {
      "cell_type": "code",
      "metadata": {
        "id": "qtdUI-6Dby4R",
        "colab_type": "code",
        "colab": {}
      },
      "source": [
        "def modelfit(alg, dtrain, predictors,target,useTrainCV=True, cv_folds=5, early_stopping_rounds=100):\n",
        "    \n",
        "    if useTrainCV:\n",
        "        xgb_param = alg.get_xgb_params()\n",
        "        xgtrain = xgb.DMatrix(dtrain[predictors].values, label=dtrain[target].values)\n",
        "        cvresult = xgb.cv(xgb_param, xgtrain, num_boost_round=alg.get_params()['n_estimators'], nfold=cv_folds,\n",
        "            metrics='auc', early_stopping_rounds=early_stopping_rounds)\n",
        "        alg.set_params(n_estimators=cvresult.shape[0])\n",
        "        #Fit the algorithm on the data\n",
        "        alg.fit(dtrain[predictors], dtrain[target],eval_metric='auc')\n",
        "        \n",
        "    #Predict training set:\n",
        "        dtrain_predictions = alg.predict(dtrain[predictors])\n",
        "        dtrain_predprob = alg.predict_proba(dtrain[predictors])[:,1]\n",
        "        \n",
        "    #Print model report:\n",
        "    print (\"\\nModel Report\")\n",
        "    print (\"Accuracy : %.4g\" % metrics.accuracy_score(dtrain[target].values, dtrain_predictions))\n",
        "    print (\"AUC Score (Train): %f\" % metrics.roc_auc_score(dtrain[target], dtrain_predprob))\n",
        "    return alg"
      ],
      "execution_count": 0,
      "outputs": []
    },
    {
      "cell_type": "code",
      "metadata": {
        "id": "M_j-L5NEdNpK",
        "colab_type": "code",
        "colab": {}
      },
      "source": [
        "from sklearn import metrics"
      ],
      "execution_count": 0,
      "outputs": []
    },
    {
      "cell_type": "code",
      "metadata": {
        "id": "ERXkSJlDbrOS",
        "colab_type": "code",
        "colab": {}
      },
      "source": [
        "sel = ['perc_premium_paid_by_cash_credit', 'Income',\n",
        "       'Count_3-6_months_late', 'Count_6-12_months_late',\n",
        "       'Count_more_than_12_months_late', \n",
        "       'no_of_premiums_paid', 'residence_area_type', 'age',\n",
        "        'act_premiums','count_3plus','count_6plus',\n",
        "       'perc_premium_paid_ontime', 'perc_premium_paid_atoneinst',\n",
        "       'sourcing_channel_A',\n",
        "       'sourcing_channel_B', 'sourcing_channel_C', 'sourcing_channel_D',\n",
        "       'sourcing_channel_E','uw_score']"
      ],
      "execution_count": 0,
      "outputs": []
    },
    {
      "cell_type": "code",
      "metadata": {
        "id": "kt_iS4Tab3Ix",
        "colab_type": "code",
        "outputId": "1771df10-eae5-4666-fab4-2926dba4b32f",
        "colab": {
          "base_uri": "https://localhost:8080/",
          "height": 85
        }
      },
      "source": [
        "\n",
        "xgb1 = xgb.XGBClassifier(\n",
        " learning_rate =0.01,\n",
        " n_estimators=1000,\n",
        " max_depth= 10 ,\n",
        " min_child_weight=5,\n",
        " gamma=0,\n",
        " subsample=0.9,\n",
        " colsample_bytree=0.8,\n",
        " #colsample_bylevel = 0.5,\n",
        " objective= 'binary:logistic',\n",
        " nthread=4,\n",
        " #scale_pos_weight=1,\n",
        " seed=27)\n",
        "alg = modelfit(xgb1, train_ref2 , sel , 'target' , cv_folds= 5) "
      ],
      "execution_count": 78,
      "outputs": [
        {
          "output_type": "stream",
          "text": [
            "\n",
            "Model Report\n",
            "Accuracy : 0.955\n",
            "AUC Score (Train): 0.882333\n"
          ],
          "name": "stdout"
        }
      ]
    },
    {
      "cell_type": "code",
      "metadata": {
        "id": "2s8LLWEOWmtB",
        "colab_type": "code",
        "colab": {}
      },
      "source": [
        "tr_ref = train_ref.copy()"
      ],
      "execution_count": 0,
      "outputs": []
    },
    {
      "cell_type": "code",
      "metadata": {
        "id": "QyZ_wwfHW5lZ",
        "colab_type": "code",
        "colab": {}
      },
      "source": [
        "test = pd.read_csv('/content/test_QaJU1Mh.csv')"
      ],
      "execution_count": 0,
      "outputs": []
    },
    {
      "cell_type": "code",
      "metadata": {
        "id": "riMAs7GBXIiu",
        "colab_type": "code",
        "colab": {}
      },
      "source": [
        "test2 = train_ref_transformation(test)"
      ],
      "execution_count": 0,
      "outputs": []
    },
    {
      "cell_type": "code",
      "metadata": {
        "id": "fk_2fm65xQMX",
        "colab_type": "code",
        "colab": {}
      },
      "source": [
        "test2['target']=alg.predict_proba(test2[sel])[:,1]"
      ],
      "execution_count": 0,
      "outputs": []
    },
    {
      "cell_type": "code",
      "metadata": {
        "id": "rP2FVoobU_Bh",
        "colab_type": "code",
        "colab": {}
      },
      "source": [
        "test2[['id','target']].to_csv('Insurance_Challenge.csv',index=False)"
      ],
      "execution_count": 0,
      "outputs": []
    }
  ]
}